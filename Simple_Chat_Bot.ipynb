{
  "nbformat": 4,
  "nbformat_minor": 0,
  "metadata": {
    "colab": {
      "name": "Simple Chat Bot.ipynb",
      "provenance": [],
      "authorship_tag": "ABX9TyO2AQGz+bR/YCuifZu1unvw",
      "include_colab_link": true
    },
    "kernelspec": {
      "name": "python3",
      "display_name": "Python 3"
    }
  },
  "cells": [
    {
      "cell_type": "markdown",
      "metadata": {
        "id": "view-in-github",
        "colab_type": "text"
      },
      "source": [
        "<a href=\"https://colab.research.google.com/github/toc-dev/Machine-Learning/blob/master/Simple_Chat_Bot.ipynb\" target=\"_parent\"><img src=\"https://colab.research.google.com/assets/colab-badge.svg\" alt=\"Open In Colab\"/></a>"
      ]
    },
    {
      "cell_type": "code",
      "metadata": {
        "id": "9lWw1snI4cpX"
      },
      "source": [
        "#Description: this is a chat bot program"
      ],
      "execution_count": 1,
      "outputs": []
    },
    {
      "cell_type": "code",
      "metadata": {
        "id": "MVrdQeBn4x83"
      },
      "source": [
        "#import the library\n",
        "from nltk.chat.util import Chat, reflections"
      ],
      "execution_count": 3,
      "outputs": []
    },
    {
      "cell_type": "code",
      "metadata": {
        "id": "hVYP6Nvb5F-X"
      },
      "source": [
        "pairs = [\n",
        "         ['my name is (.*)', ['hi, %1']],\n",
        "         ['(hi|hello|hey|holla|hola)',['hey there', 'hi there', 'haayyy']],\n",
        "         ['(.*) in (.*) is fun', ['%1 in %2 is indeed fun']],\n",
        "         ['(.*)(location|city) ?', 'Tokyo, Japan'],\n",
        "         ['(.*) created you ?', ['sage the unruly did using NLTK']],\n",
        "         ['how is the weather in (.*)', ['the weather in %1 is amazing like always']],\n",
        "         ['(.*)help(.*)', ['I can help you']],\n",
        "         ['(.*) your name ?', ['my name is J.A.R.V.I.S']]\n",
        "]"
      ],
      "execution_count": 32,
      "outputs": []
    },
    {
      "cell_type": "code",
      "metadata": {
        "colab": {
          "base_uri": "https://localhost:8080/"
        },
        "id": "D7BAtMLe5RwK",
        "outputId": "9d0d8200-cb0e-491f-ba93-87825cd9dd49"
      },
      "source": [
        "chat = Chat(pairs, reflections)\n",
        "chat.converse()"
      ],
      "execution_count": null,
      "outputs": [
        {
          "output_type": "stream",
          "text": [
            ">wetin be your name\n",
            "my name is J.A.R.V.I.S\n",
            ">who created you\n",
            "sage the unruly did using NLTK\n",
            ">hi\n",
            "haayyy\n",
            ">Unversal in tokyo is fun\n",
            "unversal in tokyo is indeed fun\n"
          ],
          "name": "stdout"
        }
      ]
    }
  ]
}