{
  "nbformat": 4,
  "nbformat_minor": 0,
  "metadata": {
    "colab": {
      "name": "Perceptron Algorithm",
      "provenance": [],
      "authorship_tag": "ABX9TyMHpA0gkvUnE2/iwUZaqqOQ",
      "include_colab_link": true
    },
    "kernelspec": {
      "name": "python3",
      "display_name": "Python 3"
    }
  },
  "cells": [
    {
      "cell_type": "markdown",
      "metadata": {
        "id": "view-in-github",
        "colab_type": "text"
      },
      "source": [
        "<a href=\"https://colab.research.google.com/github/toc-dev/Machine-Learning/blob/master/Perceptron_Algorithm.ipynb\" target=\"_parent\"><img src=\"https://colab.research.google.com/assets/colab-badge.svg\" alt=\"Open In Colab\"/></a>"
      ]
    },
    {
      "cell_type": "code",
      "metadata": {
        "id": "owARuahVRjwz",
        "colab": {
          "base_uri": "https://localhost:8080/"
        },
        "outputId": "c642eff8-8734-4d14-bbf6-ed11821f3e92"
      },
      "source": [
        "#the perceptron algorithm. it is pertinent to note that arrangement matters\r\n",
        "#the order in which you choose your x influences the speed of convergence\r\n",
        "import numpy as np\r\n",
        "T = 1000\r\n",
        "x = [\r\n",
        "     np.array([-1,-1]),\r\n",
        "     np.array([1,0]),\r\n",
        "     np.array([-1, 1.5])\r\n",
        "     \r\n",
        "]\r\n",
        "y = [1,-1,1]\r\n",
        "theta = np.array([0,0])\r\n",
        "N = len(x)\r\n",
        "progress = []\r\n",
        "for t in range(0,T):\r\n",
        "  for i in range(0,N):\r\n",
        "    if ((y[i] * (np.matmul(theta, np.transpose(x[i])))) <= 0):\r\n",
        "      theta = theta + y[i]*x[i]\r\n",
        "      progress.append(theta.tolist())\r\n",
        "\r\n",
        "      print(\"Number of mistakes %d\" % (len(progress)))\r\n",
        "      print(\"progress\")\r\n",
        "      print(progress)"
      ],
      "execution_count": 5,
      "outputs": [
        {
          "output_type": "stream",
          "text": [
            "Number of mistakes 1\n",
            "progress\n",
            "[[-1, -1]]\n",
            "Number of mistakes 2\n",
            "progress\n",
            "[[-1, -1], [-2.0, 0.5]]\n"
          ],
          "name": "stdout"
        }
      ]
    }
  ]
}